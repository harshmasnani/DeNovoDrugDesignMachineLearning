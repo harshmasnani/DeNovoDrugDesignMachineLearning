{
 "cells": [
  {
   "cell_type": "code",
   "execution_count": 1,
   "metadata": {},
   "outputs": [],
   "source": [
    "from sklearn.model_selection import train_test_split\n",
    "import tensorflow as tf\n",
    "import pandas as pd\n",
    "import numpy as np\n",
    "import matplotlib.pyplot as plt\n",
    "%matplotlib inline"
   ]
  },
  {
   "cell_type": "code",
   "execution_count": 2,
   "metadata": {},
   "outputs": [],
   "source": [
    "train=pd.read_csv('ACT11_competition_training.csv', dtype={\"MOLECULE\": object, \"Act\": float})\n",
    "\n",
    "                  "
   ]
  },
  {
   "cell_type": "markdown",
   "metadata": {},
   "source": [
    "Get truth values and reshape"
   ]
  },
  {
   "cell_type": "code",
   "execution_count": 3,
   "metadata": {},
   "outputs": [
    {
     "data": {
      "text/plain": [
       "(6399,)"
      ]
     },
     "execution_count": 3,
     "metadata": {},
     "output_type": "execute_result"
    }
   ],
   "source": [
    "y=train['Act'].values\n",
    "y.shape"
   ]
  },
  {
   "cell_type": "code",
   "execution_count": 4,
   "metadata": {},
   "outputs": [
    {
     "data": {
      "text/plain": [
       "(6399, 1)"
      ]
     },
     "execution_count": 4,
     "metadata": {},
     "output_type": "execute_result"
    }
   ],
   "source": [
    "y=np.reshape(y,(-1,1))\n",
    "y.shape"
   ]
  },
  {
   "cell_type": "code",
   "execution_count": 5,
   "metadata": {},
   "outputs": [],
   "source": [
    "train=train.drop(['Act', 'MOLECULE'], axis=1)"
   ]
  },
  {
   "cell_type": "code",
   "execution_count": 6,
   "metadata": {},
   "outputs": [],
   "source": [
    "x=train.values"
   ]
  },
  {
   "cell_type": "code",
   "execution_count": 7,
   "metadata": {},
   "outputs": [],
   "source": [
    "####Provided by MERCK\n",
    "def r_square(X, Y):\n",
    "    \"\"\" r^2 value defined by the competition host, r^2 = 1 indicates 100% prediction accuracy\n",
    "    \"\"\"\n",
    "    avx = np.mean(X)\n",
    "    avy = np.mean(Y)\n",
    "    sum1, sumx, sumy = 0, 0, 0\n",
    "    for i in range(len(X)):\n",
    "        sum1 += (X[i] - avx)*(Y[i] - avy)\n",
    "        sumx += (X[i] - avx)*(X[i] - avx)\n",
    "        sumy += (Y[i] - avy)*(Y[i] - avy)\n",
    "    print(len(X), sum1, sumx, sumy)\n",
    "    return sum1*sum1/(sumx*sumy)"
   ]
  },
  {
   "cell_type": "code",
   "execution_count": 8,
   "metadata": {},
   "outputs": [],
   "source": [
    "# Create model\n",
    "def multilayer_perceptron(x, weights, biases):\n",
    "    # Hidden layer 1 with ReLu activation\n",
    "    layer_1 = tf.add(tf.matmul(x, weights['w1']), biases['b1'])\n",
    "    layer_1 = tf.nn.relu(layer_1)\n",
    "    layer_1 = tf.nn.dropout(layer_1, keep_prob) \n",
    "    \n",
    "    # Hidden layer 2 with ReLu activation\n",
    "    layer_2 = tf.add(tf.matmul(layer_1, weights['w2']), biases['b2'])\n",
    "    layer_2 = tf.nn.relu(layer_2)\n",
    "    layer_2 = tf.nn.dropout(layer_2, keep_prob) \n",
    "    \n",
    "    # Output layer with ReLu activation\n",
    "    out_layer = tf.add(tf.matmul(layer_2, weights['out']), biases['out'])\n",
    "    return out_layer"
   ]
  },
  {
   "cell_type": "code",
   "execution_count": 9,
   "metadata": {},
   "outputs": [],
   "source": [
    "n_hidden_1_array = [5,10,50,100]\n",
    "n_hidden_2_array = [2,5,25,25]"
   ]
  },
  {
   "cell_type": "code",
   "execution_count": 10,
   "metadata": {
    "scrolled": true
   },
   "outputs": [
    {
     "name": "stdout",
     "output_type": "stream",
     "text": [
      "-------------------- round 0-----------------------\n",
      "[5,2]\n"
     ]
    },
    {
     "name": "stderr",
     "output_type": "stream",
     "text": [
      "/home/kevinyan/anaconda3/lib/python3.6/site-packages/sklearn/model_selection/_split.py:2026: FutureWarning: From version 0.21, test_size will always complement train_size unless both are specified.\n",
      "  FutureWarning)\n"
     ]
    },
    {
     "name": "stdout",
     "output_type": "stream",
     "text": [
      "0.29380512\n",
      "640 [-2.74623963e-22] 5.684341886080801e-13 [187.58375662]\n",
      "R^2: [7.0729639e-34]\n",
      "[10,5]\n",
      "0.20375827\n",
      "640 [36.03500548] 19.267813867443657 [183.09765551]\n",
      "R^2: [0.368073]\n",
      "[50,25]\n",
      "0.2779622\n",
      "640 [4.05028298] 0.7771119273660858 [181.19735876]\n",
      "R^2: [0.11650251]\n",
      "[100,25]\n",
      "0.2878987\n",
      "640 [2.30784277] 1.2166345775406455 [186.85983466]\n",
      "R^2: [0.02342806]\n",
      "-------------------- round 1-----------------------\n",
      "[5,2]\n",
      "0.28309512\n",
      "640 [0.] 0.0 [180.98704932]\n",
      "R^2: [nan]\n",
      "[10,5]\n"
     ]
    },
    {
     "name": "stderr",
     "output_type": "stream",
     "text": [
      "/home/kevinyan/anaconda3/lib/python3.6/site-packages/ipykernel_launcher.py:13: RuntimeWarning: invalid value encountered in true_divide\n",
      "  del sys.path[0]\n"
     ]
    },
    {
     "name": "stdout",
     "output_type": "stream",
     "text": [
      "0.2356073\n",
      "640 [22.48589475] 12.459809303189246 [180.41125984]\n",
      "R^2: [0.22492893]\n",
      "[50,25]\n",
      "0.2529533\n",
      "640 [1.0586242] 0.14425634509354102 [163.829181]\n",
      "R^2: [0.04741955]\n",
      "[100,25]\n",
      "0.2781191\n",
      "640 [4.94897866] 1.665969276743958 [185.05602144]\n",
      "R^2: [0.07944397]\n",
      "-------------------- round 2-----------------------\n",
      "[5,2]\n",
      "0.2625444\n",
      "640 [-1.18452264e-21] 5.684341886080801e-13 [167.6393498]\n",
      "R^2: [1.47241615e-32]\n",
      "[10,5]\n",
      "0.19830893\n",
      "640 [31.11674527] 16.143369879043803 [172.95801685]\n",
      "R^2: [0.34677952]\n",
      "[50,25]\n",
      "0.30122167\n",
      "640 [0.00724685] 0.00046596978465096583 [192.79204184]\n",
      "R^2: [0.00058459]\n",
      "[100,25]\n",
      "0.28804675\n",
      "640 [-7.06412243e-22] 1.4210854715202004e-13 [183.98694387]\n",
      "R^2: [1.908575e-32]\n",
      "-------------------- round 3-----------------------\n",
      "[5,2]\n",
      "0.22755723\n",
      "640 [34.16025813] 38.33631771560856 [175.58883931]\n",
      "R^2: [0.17335445]\n",
      "[10,5]\n",
      "0.26511726\n",
      "640 [5.50902288e-22] 5.684341886080801e-13 [169.54956139]\n",
      "R^2: [3.14899732e-33]\n",
      "[50,25]\n",
      "0.29560152\n",
      "640 [-0.22337666] 0.05033261683688295 [188.20271029]\n",
      "R^2: [0.00526745]\n",
      "[100,25]\n",
      "0.25931475\n",
      "640 [0.01018187] 9.489537184936836e-05 [164.67983109]\n",
      "R^2: [0.00663391]\n",
      "-------------------- round 4-----------------------\n",
      "[5,2]\n",
      "0.17152709\n",
      "640 [60.7097505] 34.909371838178245 [195.84217834]\n",
      "R^2: [0.53909913]\n",
      "[10,5]\n",
      "0.29713926\n",
      "640 [-0.01473655] 0.0007884888333431483 [187.27714845]\n",
      "R^2: [0.00147066]\n",
      "[50,25]\n",
      "0.29027748\n",
      "640 [2.14310138] 0.3660270263946259 [182.56706206]\n",
      "R^2: [0.06873056]\n",
      "[100,25]\n",
      "0.2617672\n",
      "640 [0.24789921] 0.19441240484674793 [167.81026175]\n",
      "R^2: [0.00188368]\n",
      "-------------------- round 5-----------------------\n",
      "[5,2]\n",
      "0.28342205\n",
      "640 [4.13590306e-22] 5.684341886080801e-13 [181.36598377]\n",
      "R^2: [1.65922268e-33]\n",
      "[10,5]\n",
      "0.26873317\n",
      "640 [-0.00097437] 1.0800124172760661e-05 [171.96919094]\n",
      "R^2: [0.00051117]\n",
      "[50,25]\n",
      "0.28113684\n",
      "640 [3.20307529] 1.0299324093103532 [172.89054554]\n",
      "R^2: [0.05761749]\n",
      "[100,25]\n",
      "0.28449202\n",
      "640 [0.0043966] 9.804378678501813e-05 [180.99064831]\n",
      "R^2: [0.00108933]\n",
      "-------------------- round 6-----------------------\n",
      "[5,2]\n",
      "0.2915432\n",
      "640 [-1.98523347e-22] 5.684341886080801e-13 [186.41721577]\n",
      "R^2: [3.71926368e-34]\n",
      "[10,5]\n",
      "0.25358456\n",
      "640 [6.88811938] 2.8173501062342474 [173.12040589]\n",
      "R^2: [0.09727747]\n",
      "[50,25]\n",
      "0.2737071\n",
      "640 [0.] 0.0 [174.16605211]\n",
      "R^2: [nan]\n",
      "[100,25]\n",
      "0.2684028\n",
      "640 [10.31096335] 10.602425335700602 [170.11051757]\n",
      "R^2: [0.05894705]\n",
      "-------------------- round 7-----------------------\n",
      "[5,2]\n",
      "1.6294224\n",
      "640 [18.76334391] 885.8872171021067 [187.44140705]\n",
      "R^2: [0.0021202]\n",
      "[10,5]\n",
      "0.2635862\n",
      "640 [6.9346449] 1.4612149292804375 [179.00957956]\n",
      "R^2: [0.18384765]\n",
      "[50,25]\n",
      "0.28232178\n",
      "640 [-2.87858853e-22] 5.684341886080801e-13 [180.51642991]\n",
      "R^2: [8.07536674e-34]\n",
      "[100,25]\n",
      "0.2813159\n",
      "640 [-3.70576914e-22] 5.684341886080801e-13 [180.01433732]\n",
      "R^2: [1.34205228e-33]\n",
      "-------------------- round 8-----------------------\n",
      "[5,2]\n",
      "0.2900756\n",
      "640 [2.59734712e-22] 5.684341886080801e-13 [185.3109993]\n",
      "R^2: [6.40440225e-34]\n",
      "[10,5]\n",
      "0.27395374\n",
      "640 [-0.02297422] 0.0004364224531201444 [175.17632428]\n",
      "R^2: [0.00690397]\n",
      "[50,25]\n",
      "0.27057165\n",
      "640 [5.73844085] 1.414700666383954 [182.60966316]\n",
      "R^2: [0.12746751]\n",
      "[100,25]\n",
      "0.25761598\n",
      "640 [6.34752583] 1.4770395191019254 [176.00482275]\n",
      "R^2: [0.15498593]\n",
      "-------------------- round 9-----------------------\n",
      "[5,2]\n",
      "0.39168304\n",
      "640 [5.87991452] 79.96271774062188 [182.14418471]\n",
      "R^2: [0.00237377]\n",
      "[10,5]\n",
      "0.23755622\n",
      "640 [16.44720423] 8.187919124093497 [176.07951673]\n",
      "R^2: [0.18762979]\n",
      "[50,25]\n",
      "0.31946585\n",
      "640 [1.3221766] 0.06630985881456297 [199.58948934]\n",
      "R^2: [0.13208794]\n",
      "[100,25]\n",
      "0.27393618\n",
      "640 [0.] 0.0 [175.31912183]\n",
      "R^2: [nan]\n"
     ]
    }
   ],
   "source": [
    "for index_xx in range(10):\n",
    "    print(\"-------------------- round \"+str(index_xx)+\"-----------------------\")    \n",
    "    \n",
    "    for hide_i in range(len(n_hidden_1_array)):\n",
    "    \n",
    "        n_hidden_1 = n_hidden_1_array[hide_i]\n",
    "        n_hidden_2 = n_hidden_2_array[hide_i]\n",
    "        \n",
    "        print(\"[\"+ str(n_hidden_1) +\",\"+ str(n_hidden_2) +\"]\")\n",
    "    \n",
    "        seed = round(np.random.uniform(1, len(x)))\n",
    "        X_train, X_dev, Y_train, Y_dev = train_test_split(x, y, train_size = 0.80, random_state = seed)\n",
    "        X_val, X_test, Y_val, Y_test = train_test_split(X_dev, Y_dev, train_size = 0.50, random_state = seed)\n",
    "\n",
    "        X_placeholder = tf.placeholder(tf.float32, (None, X_train.shape[1]))\n",
    "        Y_placeholder = tf.placeholder(tf.float32, (None, Y_train.shape[1]))\n",
    "\n",
    "        # define parameters\n",
    "        features = np.shape(X_train)[1] # switch to X_train\n",
    "        target_size = np.shape(X_train)[0]\n",
    "\n",
    "        learning_rate = 0.001# switch to 0.05\n",
    "\n",
    "        epochs = 900\n",
    "        batch_size = 300\n",
    "\n",
    "        batch_size_placeholder = tf.placeholder(tf.int64)\n",
    "\n",
    "        # network parameters\n",
    "\n",
    "    \n",
    "        ds_train = tf.data.Dataset.from_tensor_slices(( X_placeholder, Y_placeholder )).shuffle(buffer_size=round(len(X_train) * 0.3)).batch(batch_size_placeholder)\n",
    "\n",
    "        ds_test = tf.data.Dataset.from_tensor_slices(( X_placeholder, Y_placeholder )).batch( batch_size_placeholder )\n",
    "\n",
    "        ds_iter = tf.data.Iterator.from_structure(ds_train.output_types, ds_train.output_shapes)\n",
    "\n",
    "        next_x, next_y = ds_iter.get_next()\n",
    "\n",
    "        train_init_op = ds_iter.make_initializer(ds_train)\n",
    "        test_init_op = ds_iter.make_initializer(ds_test)\n",
    "    \n",
    "        # define placeholder for input vector X and target vector y\n",
    "        keep_prob = tf.placeholder(tf.float32)\n",
    "\n",
    "        # initialize weights and bias  \n",
    "        weights = {'w1': tf.Variable(tf.truncated_normal([features, n_hidden_1], 0, 1, dtype=tf.float32)),\n",
    "               'w2': tf.Variable(tf.truncated_normal([n_hidden_1, n_hidden_2], 0, 1, dtype=tf.float32)),\n",
    "              'out': tf.Variable(tf.truncated_normal([n_hidden_2, 1], 0, 1, dtype=tf.float32))}\n",
    "\n",
    "        biases = {'b1': tf.Variable(tf.truncated_normal([n_hidden_1], 0, 1, dtype=tf.float32)),\n",
    "              'b2': tf.Variable(tf.truncated_normal([n_hidden_2], 0, 1, dtype=tf.float32)),\n",
    "             'out': tf.Variable(tf.truncated_normal([1], 0, 1, dtype=tf.float32))}\n",
    "    \n",
    "              \n",
    "        # construct model\n",
    "        y_pred = multilayer_perceptron(next_x, weights, biases)\n",
    "    \n",
    "        # define cost function(mean squred error) and optimizer(gradient descent)\n",
    "        cost =  tf.losses.mean_squared_error(next_y, y_pred)\n",
    "        optimizer = tf.train.AdamOptimizer(learning_rate=learning_rate).minimize(cost)\n",
    "    \n",
    "        # initialize variables\n",
    "        init_op = tf.global_variables_initializer()\n",
    "    \n",
    "        with tf.Session() as sess:\n",
    "            sess.run(init_op)\n",
    "            for epoch in range(epochs):\n",
    "\n",
    "                sess.run(train_init_op, feed_dict={X_placeholder: X_train, Y_placeholder: Y_train, batch_size_placeholder: batch_size})\n",
    "                count = 0\n",
    "\n",
    "                while True:\n",
    "                    try:\n",
    "                        count += 1\n",
    "                        _, c = sess.run((optimizer, cost), feed_dict={keep_prob: 0.75})\n",
    "                    except tf.errors.OutOfRangeError:\n",
    "                        break\n",
    "#            print('Epoch:', (epoch + 1), 'cost =', c)\n",
    "            sess.run(test_init_op, feed_dict={X_placeholder: X_test, Y_placeholder: Y_test, batch_size_placeholder: len(X_test)})\n",
    "    \n",
    "            results, test_cost = sess.run((y_pred, cost), feed_dict={keep_prob: 1.0})\n",
    "    \n",
    "            print(test_cost)\n",
    "            print('R^2:', r_square(np.reshape(results, (len(results),)), Y_test))\n",
    "\n"
   ]
  },
  {
   "cell_type": "code",
   "execution_count": null,
   "metadata": {},
   "outputs": [],
   "source": []
  }
 ],
 "metadata": {
  "kernelspec": {
   "display_name": "Python 3",
   "language": "python",
   "name": "python3"
  },
  "language_info": {
   "codemirror_mode": {
    "name": "ipython",
    "version": 3
   },
   "file_extension": ".py",
   "mimetype": "text/x-python",
   "name": "python",
   "nbconvert_exporter": "python",
   "pygments_lexer": "ipython3",
   "version": "3.6.8"
  }
 },
 "nbformat": 4,
 "nbformat_minor": 2
}
