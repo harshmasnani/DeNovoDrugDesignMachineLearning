{
 "cells": [
  {
   "cell_type": "code",
   "execution_count": 2,
   "metadata": {},
   "outputs": [],
   "source": [
    "from sklearn.model_selection import train_test_split\n",
    "import tensorflow as tf\n",
    "import pandas as pd\n",
    "import numpy as np\n",
    "import matplotlib.pyplot as plt\n",
    "%matplotlib inline"
   ]
  },
  {
   "cell_type": "code",
   "execution_count": 2,
   "metadata": {},
   "outputs": [],
   "source": [
    "train=pd.read_csv('ACT11_competition_training.csv', dtype={\"MOLECULE\": object, \"Act\": float})\n",
    "\n",
    "                  "
   ]
  },
  {
   "cell_type": "markdown",
   "metadata": {},
   "source": [
    "Get truth values and reshape"
   ]
  },
  {
   "cell_type": "code",
   "execution_count": 3,
   "metadata": {},
   "outputs": [
    {
     "data": {
      "text/plain": [
       "(6399,)"
      ]
     },
     "execution_count": 3,
     "metadata": {},
     "output_type": "execute_result"
    }
   ],
   "source": [
    "y=train['Act'].values\n",
    "y.shape"
   ]
  },
  {
   "cell_type": "code",
   "execution_count": 4,
   "metadata": {},
   "outputs": [
    {
     "data": {
      "text/plain": [
       "(6399, 1)"
      ]
     },
     "execution_count": 4,
     "metadata": {},
     "output_type": "execute_result"
    }
   ],
   "source": [
    "y=np.reshape(y,(-1,1))\n",
    "y.shape"
   ]
  },
  {
   "cell_type": "code",
   "execution_count": 5,
   "metadata": {},
   "outputs": [],
   "source": [
    "train=train.drop(['Act', 'MOLECULE'], axis=1)"
   ]
  },
  {
   "cell_type": "code",
   "execution_count": 6,
   "metadata": {},
   "outputs": [],
   "source": [
    "x=train.values"
   ]
  },
  {
   "cell_type": "code",
   "execution_count": 7,
   "metadata": {},
   "outputs": [],
   "source": [
    "####Provided by MERCK\n",
    "def r_square(X, Y):\n",
    "    \"\"\" r^2 value defined by the competition host, r^2 = 1 indicates 100% prediction accuracy\n",
    "    \"\"\"\n",
    "    avx = np.mean(X)\n",
    "    avy = np.mean(Y)\n",
    "    sum1, sumx, sumy = 0, 0, 0\n",
    "    for i in range(len(X)):\n",
    "        sum1 += (X[i] - avx)*(Y[i] - avy)\n",
    "        sumx += (X[i] - avx)*(X[i] - avx)\n",
    "        sumy += (Y[i] - avy)*(Y[i] - avy)\n",
    "    print(len(X), sum1, sumx, sumy)\n",
    "    return sum1*sum1/(sumx*sumy)"
   ]
  },
  {
   "cell_type": "markdown",
   "metadata": {},
   "source": [
    "#### No Transformation. Loop five times and retain R2"
   ]
  },
  {
   "cell_type": "code",
   "execution_count": 8,
   "metadata": {},
   "outputs": [
    {
     "name": "stdout",
     "output_type": "stream",
     "text": [
      "-------------------- round 0-----------------------\n"
     ]
    },
    {
     "name": "stderr",
     "output_type": "stream",
     "text": [
      "/home/kevinyan/anaconda3/lib/python3.6/site-packages/sklearn/model_selection/_split.py:2026: FutureWarning: From version 0.21, test_size will always complement train_size unless both are specified.\n",
      "  FutureWarning)\n"
     ]
    },
    {
     "name": "stdout",
     "output_type": "stream",
     "text": [
      "0.26684064\n",
      "640 [-0.27439375] 0.042271289301424986 [170.07633203]\n",
      "R^2: [0.01047271]\n",
      "-------------------- round 1-----------------------\n",
      "0.2743149\n",
      "640 [-0.2293674] 0.037354285246866015 [173.91947516]\n",
      "R^2: [0.00809794]\n",
      "-------------------- round 2-----------------------\n",
      "0.27306953\n",
      "640 [0.50432041] 0.30647475943071356 [174.42796664]\n",
      "R^2: [0.00475776]\n",
      "-------------------- round 3-----------------------\n",
      "0.29079437\n",
      "640 [4.3063445] 0.897780654532788 [185.22642949]\n",
      "R^2: [0.11151784]\n",
      "-------------------- round 4-----------------------\n",
      "0.27804476\n",
      "640 [0.85099426] 0.06687522772817811 [176.41169298]\n",
      "R^2: [0.06138477]\n",
      "-------------------- round 5-----------------------\n",
      "0.27180532\n",
      "640 [2.22712937] 0.2327537966190496 [177.38242231]\n",
      "R^2: [0.12013887]\n",
      "-------------------- round 6-----------------------\n",
      "0.26793662\n",
      "640 [3.31963257] 1.0090597402603265 [176.84512422]\n",
      "R^2: [0.06175471]\n",
      "-------------------- round 7-----------------------\n",
      "0.28912577\n",
      "640 [0.09014242] 0.008016216358921247 [184.41166136]\n",
      "R^2: [0.00549668]\n",
      "-------------------- round 8-----------------------\n",
      "0.27640072\n",
      "640 [-0.06357582] 0.0060622503845664255 [176.66879296]\n",
      "R^2: [0.0037739]\n",
      "-------------------- round 9-----------------------\n",
      "0.27754265\n",
      "640 [8.90628322] 3.129681674050719 [191.80644924]\n",
      "R^2: [0.13213858]\n"
     ]
    }
   ],
   "source": [
    "for index_1 in range(10):\n",
    "    print(\"-------------------- round \"+str(index_1)+\"-----------------------\")\n",
    "    x=train.values\n",
    "    seed = round(np.random.uniform(1, len(x)))\n",
    "    X_train, X_dev, Y_train, Y_dev = train_test_split(x, y, train_size = 0.80, random_state = seed)\n",
    "    X_val, X_test, Y_val, Y_test = train_test_split(X_dev, Y_dev, train_size = 0.50, random_state = seed)\n",
    "\n",
    "    X_placeholder = tf.placeholder(tf.float32, (None, X_train.shape[1]))\n",
    "    Y_placeholder = tf.placeholder(tf.float32, (None, Y_train.shape[1]))\n",
    "\n",
    "    # define parameters\n",
    "    features = np.shape(X_train)[1]\n",
    "    target_size = np.shape(X_train)[0]\n",
    "\n",
    "    learning_rate = 0.001\n",
    "\n",
    "    epochs = 900\n",
    "    batch_size = 300\n",
    "\n",
    "    batch_size_placeholder = tf.placeholder(tf.int64)\n",
    "\n",
    "    # network parameters\n",
    "    n_hidden_1 = 50\n",
    "    n_hidden_2 = 25\n",
    "\n",
    "    ds_train = tf.data.Dataset.from_tensor_slices(( X_placeholder, Y_placeholder )).shuffle(buffer_size=round(len(X_train) * 0.3)).batch(batch_size_placeholder)\n",
    "\n",
    "    ds_test = tf.data.Dataset.from_tensor_slices(( X_placeholder, Y_placeholder )).batch( batch_size_placeholder )\n",
    "\n",
    "    ds_iter = tf.data.Iterator.from_structure(ds_train.output_types, ds_train.output_shapes)\n",
    "\n",
    "    next_x, next_y = ds_iter.get_next()\n",
    "\n",
    "    train_init_op = ds_iter.make_initializer(ds_train)\n",
    "    test_init_op = ds_iter.make_initializer(ds_test)\n",
    "\n",
    "    # define placeholder for input vector X and target vector y\n",
    "    keep_prob = tf.placeholder(tf.float32)\n",
    "\n",
    "    # initialize weights and bias  \n",
    "    weights = {'w1': tf.Variable(tf.truncated_normal([features, n_hidden_1], 0, 1, dtype=tf.float32)),\n",
    "           'w2': tf.Variable(tf.truncated_normal([n_hidden_1, n_hidden_2], 0, 1, dtype=tf.float32)),\n",
    "          'out': tf.Variable(tf.truncated_normal([n_hidden_2, 1], 0, 1, dtype=tf.float32))}\n",
    "\n",
    "    biases = {'b1': tf.Variable(tf.truncated_normal([n_hidden_1], 0, 1, dtype=tf.float32)),\n",
    "          'b2': tf.Variable(tf.truncated_normal([n_hidden_2], 0, 1, dtype=tf.float32)),\n",
    "         'out': tf.Variable(tf.truncated_normal([1], 0, 1, dtype=tf.float32))}\n",
    "\n",
    "    # Create model\n",
    "    def multilayer_perceptron(x, weights, biases):\n",
    "        # Hidden layer 1 with ReLu activation\n",
    "        layer_1 = tf.add(tf.matmul(x, weights['w1']), biases['b1'])\n",
    "        layer_1 = tf.nn.relu(layer_1)\n",
    "        layer_1 = tf.nn.dropout(layer_1, keep_prob) \n",
    "    \n",
    "        # Hidden layer 2 with ReLu activation\n",
    "        layer_2 = tf.add(tf.matmul(layer_1, weights['w2']), biases['b2'])\n",
    "        layer_2 = tf.nn.relu(layer_2)\n",
    "        layer_2 = tf.nn.dropout(layer_2, keep_prob) \n",
    "    \n",
    "        # Output layer with ReLu activation\n",
    "        out_layer = tf.add(tf.matmul(layer_2, weights['out']), biases['out'])\n",
    "        return out_layer\n",
    "              \n",
    "    # construct model\n",
    "    y_pred = multilayer_perceptron(next_x, weights, biases)\n",
    "    \n",
    "    # define cost function(mean squred error) and optimizer(gradient descent)\n",
    "    cost =  tf.losses.mean_squared_error(next_y, y_pred)\n",
    "    optimizer = tf.train.AdamOptimizer(learning_rate=learning_rate).minimize(cost)\n",
    "\n",
    "    # initialize variables\n",
    "    init_op = tf.global_variables_initializer()\n",
    "\n",
    "    with tf.Session() as sess:\n",
    "        sess.run(init_op)\n",
    "        for epoch in range(epochs):\n",
    "    \n",
    "            sess.run(train_init_op, feed_dict={X_placeholder: X_train, Y_placeholder: Y_train, batch_size_placeholder: batch_size})\n",
    "            count = 0\n",
    "\n",
    "            while True:\n",
    "                try:\n",
    "                    count += 1\n",
    "                    _, c = sess.run((optimizer, cost), feed_dict={keep_prob: 0.75})\n",
    "                except tf.errors.OutOfRangeError:\n",
    "                    break\n",
    "#            print('Epoch:', (epoch + 1), 'cost =', c)\n",
    "        sess.run(test_init_op, feed_dict={X_placeholder: X_test, Y_placeholder: Y_test, batch_size_placeholder: len(X_test)})\n",
    "\n",
    "        results, test_cost = sess.run((y_pred, cost), feed_dict={keep_prob: 1.0})\n",
    "\n",
    "        print(test_cost)\n",
    "        print('R^2:', r_square(np.reshape(results, (len(results),)), Y_test))\n",
    "\n"
   ]
  },
  {
   "cell_type": "markdown",
   "metadata": {},
   "source": [
    "#### Binary Transformation. Loop five times and retain R2"
   ]
  },
  {
   "cell_type": "code",
   "execution_count": 9,
   "metadata": {
    "scrolled": true
   },
   "outputs": [
    {
     "name": "stdout",
     "output_type": "stream",
     "text": [
      "-------------------- round 0-----------------------\n"
     ]
    },
    {
     "name": "stderr",
     "output_type": "stream",
     "text": [
      "/home/kevinyan/anaconda3/lib/python3.6/site-packages/sklearn/model_selection/_split.py:2026: FutureWarning: From version 0.21, test_size will always complement train_size unless both are specified.\n",
      "  FutureWarning)\n"
     ]
    },
    {
     "name": "stdout",
     "output_type": "stream",
     "text": [
      "0.22497645\n",
      "640 [25.07891769] 12.131691644654694 [180.94811567]\n",
      "R^2: [0.28651156]\n",
      "-------------------- round 1-----------------------\n",
      "0.20185351\n",
      "640 [39.15262427] 24.157151910140527 [181.11084318]\n",
      "R^2: [0.35037376]\n",
      "-------------------- round 2-----------------------\n",
      "0.25554347\n",
      "640 [5.0186372] 0.7731663693370132 [172.22505101]\n",
      "R^2: [0.18914825]\n",
      "-------------------- round 3-----------------------\n",
      "0.2529075\n",
      "640 [14.79956549] 5.552074959578189 [183.73842133]\n",
      "R^2: [0.21470523]\n",
      "-------------------- round 4-----------------------\n",
      "0.28470558\n",
      "640 [15.24529436] 29.83164321886855 [180.56847914]\n",
      "R^2: [0.04314719]\n",
      "-------------------- round 5-----------------------\n",
      "0.25675768\n",
      "640 [12.59107792] 6.591334931734666 [178.86789794]\n",
      "R^2: [0.13446834]\n",
      "-------------------- round 6-----------------------\n",
      "0.2270544\n",
      "640 [30.8785421] 16.161643125440047 [188.42999867]\n",
      "R^2: [0.31309636]\n",
      "-------------------- round 7-----------------------\n",
      "0.21082878\n",
      "640 [22.54865005] 11.085365778338074 [168.70629877]\n",
      "R^2: [0.27186905]\n",
      "-------------------- round 8-----------------------\n",
      "0.5341694\n",
      "640 [11.44251359] 177.33837711427702 [186.0004095]\n",
      "R^2: [0.00396941]\n",
      "-------------------- round 9-----------------------\n",
      "0.25062612\n",
      "640 [11.93577215] 3.2878878622987315 [180.59887495]\n",
      "R^2: [0.23992141]\n"
     ]
    }
   ],
   "source": [
    "for index_2 in range(10):\n",
    "    print(\"-------------------- round \"+str(index_2)+\"-----------------------\")    \n",
    "    x = np.where(train > 0, 1, 0)\n",
    "    seed = round(np.random.uniform(1, len(x)))\n",
    "    X_train, X_dev, Y_train, Y_dev = train_test_split(x, y, train_size = 0.80, random_state = seed)\n",
    "    X_val, X_test, Y_val, Y_test = train_test_split(X_dev, Y_dev, train_size = 0.50, random_state = seed)\n",
    "\n",
    "    X_placeholder = tf.placeholder(tf.float32, (None, X_train.shape[1]))\n",
    "    Y_placeholder = tf.placeholder(tf.float32, (None, Y_train.shape[1]))\n",
    "\n",
    "    # define parameters\n",
    "    features = np.shape(X_train)[1]\n",
    "    target_size = np.shape(X_train)[0]\n",
    "    \n",
    "    learning_rate = 0.001\n",
    "\n",
    "    epochs = 900\n",
    "    batch_size = 300\n",
    "\n",
    "    batch_size_placeholder = tf.placeholder(tf.int64)\n",
    "    \n",
    "    # network parameters\n",
    "    n_hidden_1 = 50\n",
    "    n_hidden_2 = 25\n",
    "\n",
    "    ds_train = tf.data.Dataset.from_tensor_slices(( X_placeholder, Y_placeholder )).shuffle(buffer_size=round(len(X_train) * 0.3)).batch(batch_size_placeholder)\n",
    "\n",
    "    ds_test = tf.data.Dataset.from_tensor_slices(( X_placeholder, Y_placeholder )).batch( batch_size_placeholder )\n",
    "    \n",
    "    ds_iter = tf.data.Iterator.from_structure(ds_train.output_types, ds_train.output_shapes)\n",
    "    \n",
    "    next_x, next_y = ds_iter.get_next()\n",
    "    \n",
    "    train_init_op = ds_iter.make_initializer(ds_train)\n",
    "    test_init_op = ds_iter.make_initializer(ds_test)\n",
    "    \n",
    "    # define placeholder for input vector X and target vector y\n",
    "    keep_prob = tf.placeholder(tf.float32)\n",
    "    \n",
    "    # initialize weights and bias  \n",
    "    weights = {'w1': tf.Variable(tf.truncated_normal([features, n_hidden_1], 0, 1, dtype=tf.float32)),\n",
    "               'w2': tf.Variable(tf.truncated_normal([n_hidden_1, n_hidden_2], 0, 1, dtype=tf.float32)),\n",
    "              'out': tf.Variable(tf.truncated_normal([n_hidden_2, 1], 0, 1, dtype=tf.float32))}\n",
    "\n",
    "    biases = {'b1': tf.Variable(tf.truncated_normal([n_hidden_1], 0, 1, dtype=tf.float32)),\n",
    "              'b2': tf.Variable(tf.truncated_normal([n_hidden_2], 0, 1, dtype=tf.float32)),\n",
    "             'out': tf.Variable(tf.truncated_normal([1], 0, 1, dtype=tf.float32))}\n",
    "\n",
    "    # Create model\n",
    "    def multilayer_perceptron(x, weights, biases):\n",
    "        # Hidden layer 1 with ReLu activation\n",
    "        layer_1 = tf.add(tf.matmul(x, weights['w1']), biases['b1'])\n",
    "        layer_1 = tf.nn.relu(layer_1)\n",
    "        layer_1 = tf.nn.dropout(layer_1, keep_prob) \n",
    "    \n",
    "        # Hidden layer 2 with ReLu activation\n",
    "        layer_2 = tf.add(tf.matmul(layer_1, weights['w2']), biases['b2'])\n",
    "        layer_2 = tf.nn.relu(layer_2)\n",
    "        layer_2 = tf.nn.dropout(layer_2, keep_prob) \n",
    "    \n",
    "        # Output layer with ReLu activation\n",
    "        out_layer = tf.add(tf.matmul(layer_2, weights['out']), biases['out'])\n",
    "        return out_layer\n",
    "              \n",
    "    # construct model\n",
    "    y_pred = multilayer_perceptron(next_x, weights, biases)\n",
    "    \n",
    "    # define cost function(mean squred error) and optimizer(gradient descent)\n",
    "    cost =  tf.losses.mean_squared_error(next_y, y_pred)\n",
    "    optimizer = tf.train.AdamOptimizer(learning_rate=learning_rate).minimize(cost)\n",
    "\n",
    "    # initialize variables\n",
    "    init_op = tf.global_variables_initializer()\n",
    "\n",
    "    with tf.Session() as sess:\n",
    "        sess.run(init_op)\n",
    "        for epoch in range(epochs):\n",
    "    \n",
    "            sess.run(train_init_op, feed_dict={X_placeholder: X_train, Y_placeholder: Y_train, batch_size_placeholder: batch_size})\n",
    "            count = 0\n",
    "\n",
    "            while True:\n",
    "                try:\n",
    "                    count += 1\n",
    "                    _, c = sess.run((optimizer, cost), feed_dict={keep_prob: 0.75})\n",
    "                except tf.errors.OutOfRangeError:\n",
    "                    break\n",
    "#            print('Epoch:', (epoch + 1), 'cost =', c)\n",
    "        sess.run(test_init_op, feed_dict={X_placeholder: X_test, Y_placeholder: Y_test, batch_size_placeholder: len(X_test)})\n",
    "\n",
    "        results, test_cost = sess.run((y_pred, cost), feed_dict={keep_prob: 1.0})\n",
    "\n",
    "        print(test_cost)\n",
    "        print('R^2:', r_square(np.reshape(results, (len(results),)), Y_test))\n",
    "\n"
   ]
  },
  {
   "cell_type": "markdown",
   "metadata": {},
   "source": [
    "# The model that we propose"
   ]
  },
  {
   "cell_type": "markdown",
   "metadata": {},
   "source": [
    "#### Log Transformation. Loop five times and retain R2"
   ]
  },
  {
   "cell_type": "code",
   "execution_count": 10,
   "metadata": {},
   "outputs": [
    {
     "name": "stdout",
     "output_type": "stream",
     "text": [
      "-------------------- round 0-----------------------\n"
     ]
    },
    {
     "name": "stderr",
     "output_type": "stream",
     "text": [
      "/home/kevinyan/anaconda3/lib/python3.6/site-packages/sklearn/model_selection/_split.py:2026: FutureWarning: From version 0.21, test_size will always complement train_size unless both are specified.\n",
      "  FutureWarning)\n"
     ]
    },
    {
     "name": "stdout",
     "output_type": "stream",
     "text": [
      "0.23457174\n",
      "640 [13.3190856] 5.48568518861196 [169.27432592]\n",
      "R^2: [0.19104112]\n",
      "-------------------- round 1-----------------------\n",
      "0.18930474\n",
      "640 [44.87569262] 23.36120350507565 [178.55619552]\n",
      "R^2: [0.48278325]\n",
      "-------------------- round 2-----------------------\n",
      "0.19495007\n",
      "640 [38.72409361] 20.187079587941753 [181.09791951]\n",
      "R^2: [0.41018103]\n",
      "-------------------- round 3-----------------------\n",
      "0.17077231\n",
      "640 [44.90389045] 27.797440629818034 [166.06855764]\n",
      "R^2: [0.43679304]\n",
      "-------------------- round 4-----------------------\n",
      "0.20687433\n",
      "640 [27.6337272] 14.691699228164302 [172.58509562]\n",
      "R^2: [0.30116439]\n",
      "-------------------- round 5-----------------------\n",
      "0.1577361\n",
      "640 [53.52184868] 35.20855031744672 [170.86965912]\n",
      "R^2: [0.47615584]\n",
      "-------------------- round 6-----------------------\n",
      "0.15188622\n",
      "640 [64.18155803] 42.80655472546791 [182.15933504]\n",
      "R^2: [0.52827347]\n",
      "-------------------- round 7-----------------------\n",
      "0.14907596\n",
      "640 [69.97442868] 52.569411761526 [173.98515689]\n",
      "R^2: [0.53534457]\n",
      "-------------------- round 8-----------------------\n",
      "0.16207042\n",
      "640 [58.00671243] 42.14768486650251 [171.75668296]\n",
      "R^2: [0.46480323]\n",
      "-------------------- round 9-----------------------\n",
      "0.14819357\n",
      "640 [66.32070234] 58.03233014748912 [169.0661374]\n",
      "R^2: [0.44830295]\n"
     ]
    }
   ],
   "source": [
    "for index_3 in range(10):\n",
    "    print(\"-------------------- round \"+str(index_3)+\"-----------------------\")    \n",
    "\n",
    "    train = train.apply(lambda x: np.log(x+1))\n",
    "    x = train.values\n",
    "    seed = round(np.random.uniform(1, len(x)))\n",
    "    X_train, X_dev, Y_train, Y_dev = train_test_split(x, y, train_size = 0.80, random_state = seed)\n",
    "    X_val, X_test, Y_val, Y_test = train_test_split(X_dev, Y_dev, train_size = 0.50, random_state = seed)\n",
    "\n",
    "    X_placeholder = tf.placeholder(tf.float32, (None, X_train.shape[1]))\n",
    "    Y_placeholder = tf.placeholder(tf.float32, (None, Y_train.shape[1]))\n",
    "\n",
    "    # define parameters\n",
    "    features = np.shape(X_train)[1]\n",
    "    target_size = np.shape(X_train)[0]\n",
    "\n",
    "    learning_rate = 0.001\n",
    "\n",
    "    epochs = 900\n",
    "    batch_size = 300\n",
    "\n",
    "    batch_size_placeholder = tf.placeholder(tf.int64)\n",
    "\n",
    "    # network parameters\n",
    "    n_hidden_1 = 50\n",
    "    n_hidden_2 = 25\n",
    "\n",
    "    ds_train = tf.data.Dataset.from_tensor_slices(( X_placeholder, Y_placeholder )).shuffle(buffer_size=round(len(X_train) * 0.3)).batch(batch_size_placeholder)\n",
    "\n",
    "    ds_test = tf.data.Dataset.from_tensor_slices(( X_placeholder, Y_placeholder )).batch( batch_size_placeholder )\n",
    "\n",
    "    ds_iter = tf.data.Iterator.from_structure(ds_train.output_types, ds_train.output_shapes)\n",
    "\n",
    "    next_x, next_y = ds_iter.get_next()\n",
    "\n",
    "    train_init_op = ds_iter.make_initializer(ds_train)\n",
    "    test_init_op = ds_iter.make_initializer(ds_test)\n",
    "\n",
    "    # define placeholder for input vector X and target vector y\n",
    "    keep_prob = tf.placeholder(tf.float32)\n",
    "\n",
    "    # initialize weights and bias  \n",
    "    weights = {'w1': tf.Variable(tf.truncated_normal([features, n_hidden_1], 0, 1, dtype=tf.float32)),\n",
    "           'w2': tf.Variable(tf.truncated_normal([n_hidden_1, n_hidden_2], 0, 1, dtype=tf.float32)),\n",
    "          'out': tf.Variable(tf.truncated_normal([n_hidden_2, 1], 0, 1, dtype=tf.float32))}\n",
    "\n",
    "    biases = {'b1': tf.Variable(tf.truncated_normal([n_hidden_1], 0, 1, dtype=tf.float32)),\n",
    "          'b2': tf.Variable(tf.truncated_normal([n_hidden_2], 0, 1, dtype=tf.float32)),\n",
    "         'out': tf.Variable(tf.truncated_normal([1], 0, 1, dtype=tf.float32))}\n",
    "\n",
    "    # Create model\n",
    "    def multilayer_perceptron(x, weights, biases):\n",
    "        # Hidden layer 1 with ReLu activation\n",
    "        layer_1 = tf.add(tf.matmul(x, weights['w1']), biases['b1'])\n",
    "        layer_1 = tf.nn.relu(layer_1)\n",
    "        layer_1 = tf.nn.dropout(layer_1, keep_prob) \n",
    "    \n",
    "        # Hidden layer 2 with ReLu activation\n",
    "        layer_2 = tf.add(tf.matmul(layer_1, weights['w2']), biases['b2'])\n",
    "        layer_2 = tf.nn.relu(layer_2)\n",
    "        layer_2 = tf.nn.dropout(layer_2, keep_prob) \n",
    "        \n",
    "        # Output layer with ReLu activation\n",
    "        out_layer = tf.add(tf.matmul(layer_2, weights['out']), biases['out'])\n",
    "        return out_layer\n",
    "              \n",
    "    # construct model\n",
    "    y_pred = multilayer_perceptron(next_x, weights, biases)\n",
    "\n",
    "    # define cost function(mean squred error) and optimizer(gradient descent)\n",
    "    cost =  tf.losses.mean_squared_error(next_y, y_pred)\n",
    "    optimizer = tf.train.AdamOptimizer(learning_rate=learning_rate).minimize(cost)\n",
    "\n",
    "    # initialize variables\n",
    "    init_op = tf.global_variables_initializer()\n",
    "\n",
    "    with tf.Session() as sess:\n",
    "        sess.run(init_op)\n",
    "        for epoch in range(epochs):\n",
    "    \n",
    "            sess.run(train_init_op, feed_dict={X_placeholder: X_train, Y_placeholder: Y_train, batch_size_placeholder: batch_size})\n",
    "            count = 0\n",
    "\n",
    "            while True:\n",
    "                try:\n",
    "                    count += 1\n",
    "                    _, c = sess.run((optimizer, cost), feed_dict={keep_prob: 0.75})\n",
    "                except tf.errors.OutOfRangeError:\n",
    "                    break\n",
    "#            print('Epoch:', (epoch + 1), 'cost =', c)\n",
    "        sess.run(test_init_op, feed_dict={X_placeholder: X_test, Y_placeholder: Y_test, batch_size_placeholder: len(X_test)})\n",
    "\n",
    "        results, test_cost = sess.run((y_pred, cost), feed_dict={keep_prob: 1.0})\n",
    "\n",
    "        print(test_cost)\n",
    "        print('R^2:', r_square(np.reshape(results, (len(results),)), Y_test))\n",
    "\n"
   ]
  },
  {
   "cell_type": "code",
   "execution_count": 4,
   "metadata": {},
   "outputs": [],
   "source": [
    "trials = [1, 2, 3, 4, 5, 6, 7, 8, 9, 10]\n",
    "notrans=[0.01047271, 0.00809794, 0.00475776, 0.11151784, 0.06138477, 0.12013887, 0.06175471, 0.00549668, 0.0037739, 0.13213858]\n",
    "bintrans=[0.28651156,0.35037376,0.18914825, 0.21470523,0.04314719,0.13446834,0.31309636,0.27186905,0.00396941,0.23992141]\n",
    "logtrans=[0.19104112, 0.48278325, 0.41018103, 0.43679304, 0.30116439, 0.47615584, 0.52827347, 0.53534457, 0.46480323,0.44830295]"
   ]
  },
  {
   "cell_type": "code",
   "execution_count": 24,
   "metadata": {},
   "outputs": [
    {
     "data": {
      "text/plain": [
       "<matplotlib.legend.Legend at 0x1a306ae828>"
      ]
     },
     "execution_count": 24,
     "metadata": {},
     "output_type": "execute_result"
    },
    {
     "data": {
      "image/png": "[encoded data removed]",
      "text/plain": [
       "<Figure size 432x288 with 1 Axes>"
      ]
     },
     "metadata": {},
     "output_type": "display_data"
    }
   ],
   "source": [
    "plt.scatter(trials, notrans, c='g')\n",
    "plt.scatter(trials, bintrans, c = 'r')\n",
    "plt.scatter(trials, logtrans, c = 'b')\n",
    "plt.xlabel('trial number')\n",
    "plt.ylabel('R^2')\n",
    "plt.legend(('no transformation', 'binary transformation', 'logarithmic transformation'), bbox_to_anchor=(1.53, 1.0))\n"
   ]
  },
  {
   "cell_type": "code",
   "execution_count": null,
   "metadata": {},
   "outputs": [],
   "source": []
  }
 ],
 "metadata": {
  "kernelspec": {
   "display_name": "Python 3",
   "language": "python",
   "name": "python3"
  },
  "language_info": {
   "codemirror_mode": {
    "name": "ipython",
    "version": 3
   },
   "file_extension": ".py",
   "mimetype": "text/x-python",
   "name": "python",
   "nbconvert_exporter": "python",
   "pygments_lexer": "ipython3",
   "version": "3.6.8"
  }
 },
 "nbformat": 4,
 "nbformat_minor": 2
}
